{
 "cells": [
  {
   "cell_type": "markdown",
   "metadata": {},
   "source": [
    "# prepare data"
   ]
  },
  {
   "cell_type": "code",
   "execution_count": 1,
   "metadata": {},
   "outputs": [],
   "source": [
    "import os\n",
    "import csv\n",
    "import uuid\n",
    "import random\n",
    "import json\n",
    "\n",
    "from pyspark import SparkConf, SparkContext\n",
    "\n",
    "default_nes = [ 'ne_{}'.format(str(uuid.uuid4())) for x in range(10) ]\n",
    "default_users = [ 'user_{}'.format(str(uuid.uuid4())) for x in range(10)]\n",
    "\n",
    "fields = [ ['f1','f2'],['f3','f4'],['f5','f6'],['f7','f8']]\n",
    "    \n",
    "xdrs = ['xdr1','xdr2','xdr3','xdr4']\n",
    "\n",
    "all_data = {}\n",
    "\n",
    "for xdr, field in zip(xdrs,fields):\n",
    "    xdr_records = []\n",
    "    for i in range(100):\n",
    "        row = {}\n",
    "        row['ne'] = random.choice(default_nes)\n",
    "        row['user'] = random.choice(default_users)\n",
    "        row[field[0]] = random.randrange(0,100)\n",
    "        row[field[1]] = random.randrange(0,100)\n",
    "        xdr_records.append(row)\n",
    "    all_data[xdr]= xdr_records\n",
    "    \n",
    "for xdr in xdrs:\n",
    "    with open(f'{xdr}.json','w') as f:\n",
    "        f.write(json.dumps(all_data[xdr], indent=2))"
   ]
  },
  {
   "cell_type": "markdown",
   "metadata": {},
   "source": [
    "# initialize spark"
   ]
  },
  {
   "cell_type": "code",
   "execution_count": 2,
   "metadata": {},
   "outputs": [],
   "source": [
    "from pyspark.sql import SparkSession\n",
    "spark = SparkSession.builder.master(\"local[*]\").appName(\"Word Count\").getOrCreate()"
   ]
  },
  {
   "cell_type": "markdown",
   "metadata": {},
   "source": [
    "# load data into xdr df"
   ]
  },
  {
   "cell_type": "code",
   "execution_count": 10,
   "metadata": {},
   "outputs": [],
   "source": [
    "dfs = []\n",
    "for xdr in xdrs:\n",
    "    df = spark.read.format('json').option(\"multiLine\", True).load(f'{xdr}.json')\n",
    "    dfs.append(df)"
   ]
  },
  {
   "cell_type": "code",
   "execution_count": 22,
   "metadata": {},
   "outputs": [
    {
     "name": "stdout",
     "output_type": "stream",
     "text": [
      "+---+---+--------------------+--------------------+\n",
      "| f1| f2|                  ne|                user|\n",
      "+---+---+--------------------+--------------------+\n",
      "| 67| 76|ne_c735e1f0-f3ab-...|user_4f9640db-f0e...|\n",
      "| 35| 36|ne_f04458d4-6962-...|user_dfa6d6cb-311...|\n",
      "| 71| 39|ne_dc685152-7327-...|user_a417346c-fc6...|\n",
      "| 32| 86|ne_c735e1f0-f3ab-...|user_7c89f2a0-bde...|\n",
      "| 68| 81|ne_544cab6d-9d79-...|user_91d1a3a8-63d...|\n",
      "+---+---+--------------------+--------------------+\n",
      "only showing top 5 rows\n",
      "\n"
     ]
    }
   ],
   "source": [
    "dfs[0].show(5)"
   ]
  },
  {
   "cell_type": "markdown",
   "metadata": {},
   "source": [
    "# zero padding"
   ]
  },
  {
   "cell_type": "code",
   "execution_count": 39,
   "metadata": {},
   "outputs": [],
   "source": [
    "dfa = dfs[0].join(dfs[1], ['ne','user'], how='outer') \\\n",
    "    .join(dfs[2], ['ne','user'], how='outer') \\\n",
    "    .join(dfs[3], ['ne','user'], how='outer') \\\n",
    "    .na.fill(0)"
   ]
  },
  {
   "cell_type": "code",
   "execution_count": 40,
   "metadata": {},
   "outputs": [
    {
     "name": "stdout",
     "output_type": "stream",
     "text": [
      "+--------------------+--------------------+---+---+---+---+---+---+---+---+\n",
      "|                  ne|                user| f1| f2| f3| f4| f5| f6| f7| f8|\n",
      "+--------------------+--------------------+---+---+---+---+---+---+---+---+\n",
      "|ne_f04458d4-6962-...|user_4f9640db-f0e...|  0|  0| 46| 40| 45| 35| 63| 51|\n",
      "|ne_f04458d4-6962-...|user_4f9640db-f0e...|  0|  0| 55| 64| 45| 35| 63| 51|\n",
      "|ne_08f2f7de-03a8-...|user_3a0ee37d-f76...|  0|  0|  0|  0|  0|  0| 68| 51|\n",
      "|ne_c735e1f0-f3ab-...|user_91d1a3a8-63d...| 11| 59| 38| 61| 83| 95| 43| 73|\n",
      "|ne_c735e1f0-f3ab-...|user_91d1a3a8-63d...| 11| 59| 38| 61| 23| 75| 43| 73|\n",
      "|ne_544cab6d-9d79-...|user_cddac42f-014...|  0|  0| 50| 88|  0|  0| 88|  3|\n",
      "|ne_544cab6d-9d79-...|user_cddac42f-014...|  0|  0| 50| 88|  0|  0|  8|  3|\n",
      "|ne_544cab6d-9d79-...|user_cddac42f-014...|  0|  0| 64| 11|  0|  0| 88|  3|\n",
      "|ne_544cab6d-9d79-...|user_cddac42f-014...|  0|  0| 64| 11|  0|  0|  8|  3|\n",
      "|ne_544cab6d-9d79-...|user_4f9640db-f0e...| 31|  5| 50| 74| 96| 49|  0|  0|\n",
      "|ne_544cab6d-9d79-...|user_4f9640db-f0e...| 56| 24| 50| 74| 96| 49|  0|  0|\n",
      "|ne_544cab6d-9d79-...|user_4f9640db-f0e...| 20| 50| 50| 74| 96| 49|  0|  0|\n",
      "|ne_3461c6de-e98a-...|user_17b406a5-c6c...|  0|  0| 36| 64| 34| 12|  0|  0|\n",
      "|ne_3461c6de-e98a-...|user_17b406a5-c6c...|  0|  0| 10| 78| 34| 12|  0|  0|\n",
      "|ne_544cab6d-9d79-...|user_f12f4d9a-3e3...|  0|  0| 38| 11|  0|  0|  0|  0|\n",
      "|ne_560f6107-bf7c-...|user_4f9640db-f0e...| 71| 81|  0|  0| 19| 25| 91| 28|\n",
      "|ne_560f6107-bf7c-...|user_4f9640db-f0e...| 71| 81|  0|  0| 54| 69| 91| 28|\n",
      "|ne_560f6107-bf7c-...|user_4f9640db-f0e...| 71| 81|  0|  0| 94| 11| 91| 28|\n",
      "|ne_a5d9dc1b-f074-...|user_a417346c-fc6...| 15| 74|  0|  0|  0|  0| 19| 69|\n",
      "|ne_a5d9dc1b-f074-...|user_a417346c-fc6...| 15| 74|  0|  0|  0|  0| 33| 11|\n",
      "+--------------------+--------------------+---+---+---+---+---+---+---+---+\n",
      "only showing top 20 rows\n",
      "\n"
     ]
    }
   ],
   "source": [
    "dfa.show()"
   ]
  },
  {
   "cell_type": "code",
   "execution_count": 41,
   "metadata": {},
   "outputs": [
    {
     "name": "stdout",
     "output_type": "stream",
     "text": [
      "+--------------------+--------------------+-------+-------+-------+-------+-------+-------+-------+-------+\n",
      "|                  ne|                user|sum(f1)|sum(f2)|sum(f3)|sum(f4)|sum(f5)|sum(f6)|sum(f7)|sum(f8)|\n",
      "+--------------------+--------------------+-------+-------+-------+-------+-------+-------+-------+-------+\n",
      "|ne_f04458d4-6962-...|user_4f9640db-f0e...|      0|      0|    101|    104|     90|     70|    126|    102|\n",
      "|ne_08f2f7de-03a8-...|user_3a0ee37d-f76...|      0|      0|      0|      0|      0|      0|     68|     51|\n",
      "|ne_c735e1f0-f3ab-...|user_91d1a3a8-63d...|     22|    118|     76|    122|    106|    170|     86|    146|\n",
      "|ne_544cab6d-9d79-...|user_cddac42f-014...|      0|      0|    228|    198|      0|      0|    192|     12|\n",
      "|ne_544cab6d-9d79-...|user_4f9640db-f0e...|    107|     79|    150|    222|    288|    147|      0|      0|\n",
      "|ne_3461c6de-e98a-...|user_17b406a5-c6c...|      0|      0|     46|    142|     68|     24|      0|      0|\n",
      "|ne_544cab6d-9d79-...|user_f12f4d9a-3e3...|      0|      0|     38|     11|      0|      0|      0|      0|\n",
      "|ne_560f6107-bf7c-...|user_4f9640db-f0e...|    213|    243|      0|      0|    167|    105|    273|     84|\n",
      "|ne_a5d9dc1b-f074-...|user_a417346c-fc6...|     93|    318|      0|      0|      0|      0|    218|    302|\n",
      "|ne_08f2f7de-03a8-...|user_91d1a3a8-63d...|      0|      0|     73|     19|     87|     65|     51|     93|\n",
      "|ne_544cab6d-9d79-...|user_dfa6d6cb-311...|     83|     95|     18|     40|      0|      0|     97|     24|\n",
      "|ne_560f6107-bf7c-...|user_17b406a5-c6c...|    252|     30|      0|      0|    222|     97|      0|      0|\n",
      "|ne_dc685152-7327-...|user_17b406a5-c6c...|     50|     85|     28|     15|     99|     78|      0|      0|\n",
      "|ne_544cab6d-9d79-...|user_17b406a5-c6c...|   1320|    624|   1184|    984|    752|    464|      0|      0|\n",
      "|ne_560f6107-bf7c-...|user_a417346c-fc6...|    276|    132|    342|    261|    402|    228|    268|    502|\n",
      "|ne_8591b2d0-4be0-...|user_f12f4d9a-3e3...|     52|     10|     85|     95|     83|     47|     19|     81|\n",
      "|ne_e6fe87d6-74ff-...|user_cddac42f-014...|      0|      0|     84|    101|     22|    198|     22|     38|\n",
      "|ne_8591b2d0-4be0-...|user_dfa6d6cb-311...|     17|     99|      4|     63|      1|     74|     39|     32|\n",
      "|ne_3461c6de-e98a-...|user_dfa6d6cb-311...|      0|      0|    126|    204|      0|      0|    180|     66|\n",
      "|ne_c735e1f0-f3ab-...|user_f12f4d9a-3e3...|      0|      0|     60|     57|     63|     32|     43|     53|\n",
      "+--------------------+--------------------+-------+-------+-------+-------+-------+-------+-------+-------+\n",
      "only showing top 20 rows\n",
      "\n"
     ]
    }
   ],
   "source": [
    "dfa.groupBy(['ne','user']).sum().show()"
   ]
  }
 ],
 "metadata": {
  "kernelspec": {
   "display_name": "Python 3",
   "language": "python",
   "name": "python3"
  },
  "language_info": {
   "codemirror_mode": {
    "name": "ipython",
    "version": 3
   },
   "file_extension": ".py",
   "mimetype": "text/x-python",
   "name": "python",
   "nbconvert_exporter": "python",
   "pygments_lexer": "ipython3",
   "version": "3.7.6"
  }
 },
 "nbformat": 4,
 "nbformat_minor": 4
}
