{
 "cells": [
  {
   "cell_type": "markdown",
   "metadata": {},
   "source": [
    "# prepare data"
   ]
  },
  {
   "cell_type": "code",
   "execution_count": 1,
   "metadata": {},
   "outputs": [],
   "source": [
    "import os\n",
    "import csv\n",
    "import uuid\n",
    "import random\n",
    "import json\n",
    "\n",
    "from pyspark import SparkConf, SparkContext\n",
    "\n",
    "default_nes = [ 'ne_{}'.format(str(uuid.uuid4())) for x in range(10) ]\n",
    "default_users = [ 'user_{}'.format(str(uuid.uuid4())) for x in range(10)]\n",
    "\n",
    "fields = [ ['f1','f2'],['f3','f4'],['f5','f6'],['f7','f8']]\n",
    "    \n",
    "xdrs = ['xdr1','xdr2','xdr3','xdr4']\n",
    "\n",
    "all_data = {}\n",
    "\n",
    "for xdr, field in zip(xdrs,fields):\n",
    "    xdr_records = []\n",
    "    for i in range(100):\n",
    "        row = {}\n",
    "        row['ne'] = random.choice(default_nes)\n",
    "        row['user'] = random.choice(default_users)\n",
    "        row[field[0]] = random.randrange(1,100)\n",
    "        row[field[1]] = random.randrange(1,100)\n",
    "        xdr_records.append(row)\n",
    "    all_data[xdr]= xdr_records\n",
    "    \n",
    "for xdr in xdrs:\n",
    "    with open(f'{xdr}.json','w') as f:\n",
    "        f.write(json.dumps(all_data[xdr], indent=2))"
   ]
  },
  {
   "cell_type": "markdown",
   "metadata": {},
   "source": [
    "# initialize spark"
   ]
  },
  {
   "cell_type": "code",
   "execution_count": 2,
   "metadata": {},
   "outputs": [],
   "source": [
    "from pyspark.sql import SparkSession\n",
    "spark = SparkSession.builder.master(\"local[*]\").appName(\"zeropadding\").getOrCreate()"
   ]
  },
  {
   "cell_type": "markdown",
   "metadata": {},
   "source": [
    "# load data into xdr df"
   ]
  },
  {
   "cell_type": "code",
   "execution_count": 3,
   "metadata": {},
   "outputs": [],
   "source": [
    "dfs = []\n",
    "for xdr in xdrs:\n",
    "    df = spark.read.format('json').option(\"multiLine\", True).load(f'{xdr}.json')\n",
    "    dfs.append(df)"
   ]
  },
  {
   "cell_type": "code",
   "execution_count": 4,
   "metadata": {},
   "outputs": [
    {
     "name": "stdout",
     "output_type": "stream",
     "text": [
      "+---+---+--------------------+--------------------+\n",
      "| f1| f2|                  ne|                user|\n",
      "+---+---+--------------------+--------------------+\n",
      "|  3| 44|ne_a64170bb-555f-...|user_63c7dd82-268...|\n",
      "|  5| 22|ne_a4c9d604-2650-...|user_1bcecde6-47d...|\n",
      "| 32|  9|ne_a64170bb-555f-...|user_ab81dfdf-0c0...|\n",
      "| 71|  7|ne_0ca66591-4041-...|user_9e9dc071-d8f...|\n",
      "| 99| 64|ne_31d83705-ca32-...|user_6b8148e8-c96...|\n",
      "+---+---+--------------------+--------------------+\n",
      "only showing top 5 rows\n",
      "\n"
     ]
    }
   ],
   "source": [
    "dfs[0].show(5)"
   ]
  },
  {
   "cell_type": "markdown",
   "metadata": {},
   "source": [
    "# zero padding"
   ]
  },
  {
   "cell_type": "code",
   "execution_count": 5,
   "metadata": {},
   "outputs": [],
   "source": [
    "dfa = dfs[0].join(dfs[1], ['ne','user'], how='outer') \\\n",
    "    .join(dfs[2], ['ne','user'], how='outer') \\\n",
    "    .join(dfs[3], ['ne','user'], how='outer') \\\n",
    "    .na.fill(0)"
   ]
  },
  {
   "cell_type": "code",
   "execution_count": 6,
   "metadata": {},
   "outputs": [
    {
     "name": "stdout",
     "output_type": "stream",
     "text": [
      "+--------------------+--------------------+---+---+---+---+---+---+---+---+\n",
      "|                  ne|                user| f1| f2| f3| f4| f5| f6| f7| f8|\n",
      "+--------------------+--------------------+---+---+---+---+---+---+---+---+\n",
      "|ne_a4c9d604-2650-...|user_288d7cb2-604...|  5|  1| 74| 27|  0|  0| 44| 77|\n",
      "|ne_1adbb543-a359-...|user_ab81dfdf-0c0...| 60| 90| 40| 83| 74| 34| 59| 94|\n",
      "|ne_1adbb543-a359-...|user_ab81dfdf-0c0...| 60| 90| 40| 83|  4| 59| 59| 94|\n",
      "|ne_1adbb543-a359-...|user_ab81dfdf-0c0...| 60| 90| 59| 50| 74| 34| 59| 94|\n",
      "|ne_1adbb543-a359-...|user_ab81dfdf-0c0...| 60| 90| 59| 50|  4| 59| 59| 94|\n",
      "|ne_1adbb543-a359-...|user_ab81dfdf-0c0...| 60| 90| 25| 63| 74| 34| 59| 94|\n",
      "|ne_1adbb543-a359-...|user_ab81dfdf-0c0...| 60| 90| 25| 63|  4| 59| 59| 94|\n",
      "|ne_1adbb543-a359-...|user_ab81dfdf-0c0...| 80| 33| 40| 83| 74| 34| 59| 94|\n",
      "|ne_1adbb543-a359-...|user_ab81dfdf-0c0...| 80| 33| 40| 83|  4| 59| 59| 94|\n",
      "|ne_1adbb543-a359-...|user_ab81dfdf-0c0...| 80| 33| 59| 50| 74| 34| 59| 94|\n",
      "|ne_1adbb543-a359-...|user_ab81dfdf-0c0...| 80| 33| 59| 50|  4| 59| 59| 94|\n",
      "|ne_1adbb543-a359-...|user_ab81dfdf-0c0...| 80| 33| 25| 63| 74| 34| 59| 94|\n",
      "|ne_1adbb543-a359-...|user_ab81dfdf-0c0...| 80| 33| 25| 63|  4| 59| 59| 94|\n",
      "|ne_0b58c438-ed1f-...|user_6b60b63f-9b8...| 75|  7|  0|  0|  0|  0|  0|  0|\n",
      "|ne_0b58c438-ed1f-...|user_6b60b63f-9b8...| 89|  7|  0|  0|  0|  0|  0|  0|\n",
      "|ne_31d83705-ca32-...|user_a0615eb4-c2c...|  0|  0| 67| 71|  0|  0| 34| 63|\n",
      "|ne_31d83705-ca32-...|user_a0615eb4-c2c...|  0|  0| 67| 71|  0|  0| 18| 20|\n",
      "|ne_31d83705-ca32-...|user_a0615eb4-c2c...|  0|  0| 67| 71|  0|  0| 93| 16|\n",
      "|ne_3727e4b6-e12d-...|user_3b1e4817-25d...| 83| 61|  0|  0| 52| 68| 88| 53|\n",
      "|ne_3727e4b6-e12d-...|user_3b1e4817-25d...| 31| 41|  0|  0| 52| 68| 88| 53|\n",
      "+--------------------+--------------------+---+---+---+---+---+---+---+---+\n",
      "only showing top 20 rows\n",
      "\n"
     ]
    }
   ],
   "source": [
    "dfa.show()"
   ]
  },
  {
   "cell_type": "code",
   "execution_count": 7,
   "metadata": {},
   "outputs": [
    {
     "name": "stdout",
     "output_type": "stream",
     "text": [
      "+--------------------+--------------------+-------+-------+-------+-------+-------+-------+-------+-------+\n",
      "|                  ne|                user|sum(f1)|sum(f2)|sum(f3)|sum(f4)|sum(f5)|sum(f6)|sum(f7)|sum(f8)|\n",
      "+--------------------+--------------------+-------+-------+-------+-------+-------+-------+-------+-------+\n",
      "|ne_a4c9d604-2650-...|user_288d7cb2-604...|      5|      1|     74|     27|      0|      0|     44|     77|\n",
      "|ne_1adbb543-a359-...|user_ab81dfdf-0c0...|    840|    738|    496|    784|    468|    558|    708|   1128|\n",
      "|ne_0b58c438-ed1f-...|user_6b60b63f-9b8...|    164|     14|      0|      0|      0|      0|      0|      0|\n",
      "|ne_31d83705-ca32-...|user_a0615eb4-c2c...|      0|      0|    201|    213|      0|      0|    145|     99|\n",
      "|ne_3727e4b6-e12d-...|user_3b1e4817-25d...|    187|    134|      0|      0|    156|    204|    264|    159|\n",
      "|ne_0cd3bc29-f84a-...|user_3b1e4817-25d...|     26|     19|     54|     62|      0|      0|     80|     41|\n",
      "|ne_a64170bb-555f-...|user_6b8148e8-c96...|      0|      0|    183|    210|      0|      0|      0|      0|\n",
      "|ne_0ca66591-4041-...|user_9e9dc071-d8f...|     71|      7|      0|      0|     10|     19|      0|      0|\n",
      "|ne_0ca66591-4041-...|user_63c7dd82-268...|     48|     93|      0|      0|     96|     31|     72|     99|\n",
      "|ne_1adbb543-a359-...|user_6b8148e8-c96...|      0|      0|     84|    126|      0|      0|    124|     95|\n",
      "|ne_31d83705-ca32-...|user_9b970ef5-090...|      0|      0|     24|    142|     65|    159|      0|      0|\n",
      "|ne_0b58c438-ed1f-...|user_a0615eb4-c2c...|      0|      0|     25|     76|      0|      0|     94|     28|\n",
      "|ne_31d83705-ca32-...|user_6b8148e8-c96...|    297|    192|      0|      0|      0|      0|    126|    124|\n",
      "|ne_0b58c438-ed1f-...|user_63c7dd82-268...|     18|    150|      4|     36|     39|    119|    180|    190|\n",
      "|ne_1adbb543-a359-...|user_1bcecde6-47d...|      0|      0|      6|     82|      0|      0|      0|      0|\n",
      "|ne_a64170bb-555f-...|user_63c7dd82-268...|      6|     88|     94|    100|     46|     38|     70|      6|\n",
      "|ne_a64170bb-555f-...|user_9b970ef5-090...|     55|    136|    194|    100|     12|    146|    184|    144|\n",
      "|ne_0b58c438-ed1f-...|user_9b970ef5-090...|    103|    127|      0|      0|    128|    100|      0|      0|\n",
      "|ne_a4c9d604-2650-...|user_9e9dc071-d8f...|    160|    252|    210|    330|      0|      0|      0|      0|\n",
      "|ne_0b58c438-ed1f-...|user_9e9dc071-d8f...|     29|     73|      0|      0|     56|     81|      0|      0|\n",
      "+--------------------+--------------------+-------+-------+-------+-------+-------+-------+-------+-------+\n",
      "only showing top 20 rows\n",
      "\n"
     ]
    }
   ],
   "source": [
    "dfa.groupBy(['ne','user']).sum().show()"
   ]
  }
 ],
 "metadata": {
  "kernelspec": {
   "display_name": "Python 3",
   "language": "python",
   "name": "python3"
  },
  "language_info": {
   "codemirror_mode": {
    "name": "ipython",
    "version": 3
   },
   "file_extension": ".py",
   "mimetype": "text/x-python",
   "name": "python",
   "nbconvert_exporter": "python",
   "pygments_lexer": "ipython3",
   "version": "3.7.6"
  }
 },
 "nbformat": 4,
 "nbformat_minor": 4
}
