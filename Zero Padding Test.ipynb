{
 "cells": [
  {
   "cell_type": "markdown",
   "metadata": {},
   "source": [
    "# prepare data"
   ]
  },
  {
   "cell_type": "code",
   "execution_count": 1,
   "metadata": {},
   "outputs": [],
   "source": [
    "import os\n",
    "import csv\n",
    "import uuid\n",
    "import random\n",
    "import json\n",
    "\n",
    "from pyspark import SparkConf, SparkContext\n",
    "\n",
    "default_nes = [ 'ne_{}'.format(str(uuid.uuid4())) for x in range(10) ]\n",
    "default_users = [ 'user_{}'.format(str(uuid.uuid4())) for x in range(10)]\n",
    "\n",
    "fields = [ ['f1','f2'],['f3','f4'],['f5','f6'],['f7','f8']]\n",
    "    \n",
    "xdrs = ['xdr1','xdr2','xdr3','xdr4']\n",
    "\n",
    "all_data = {}\n",
    "\n",
    "for xdr, field in zip(xdrs,fields):\n",
    "    xdr_records = []\n",
    "    for i in range(100):\n",
    "        row = {}\n",
    "        row['ne'] = random.choice(default_nes)\n",
    "        row['user'] = random.choice(default_users)\n",
    "        row[field[0]] = random.randrange(1,100)\n",
    "        row[field[1]] = random.randrange(1,100)\n",
    "        xdr_records.append(row)\n",
    "    all_data[xdr]= xdr_records\n",
    "    \n",
    "for xdr in xdrs:\n",
    "    with open(f'{xdr}.json','w') as f:\n",
    "        f.write(json.dumps(all_data[xdr], indent=2))"
   ]
  },
  {
   "cell_type": "markdown",
   "metadata": {},
   "source": [
    "# initialize spark"
   ]
  },
  {
   "cell_type": "code",
   "execution_count": 2,
   "metadata": {},
   "outputs": [],
   "source": [
    "from pyspark.sql import SparkSession\n",
    "spark = SparkSession.builder.master(\"local[*]\").appName(\"zeropadding\").getOrCreate()"
   ]
  },
  {
   "cell_type": "markdown",
   "metadata": {},
   "source": [
    "# load data into xdr df"
   ]
  },
  {
   "cell_type": "code",
   "execution_count": 3,
   "metadata": {},
   "outputs": [],
   "source": [
    "dfs = []\n",
    "for xdr in xdrs:\n",
    "    df = spark.read.format('json').option(\"multiLine\", True).load(f'{xdr}.json')\n",
    "    dfs.append(df)"
   ]
  },
  {
   "cell_type": "code",
   "execution_count": 4,
   "metadata": {},
   "outputs": [
    {
     "name": "stdout",
     "output_type": "stream",
     "text": [
      "+---+---+--------------------+--------------------+\n",
      "| f1| f2|                  ne|                user|\n",
      "+---+---+--------------------+--------------------+\n",
      "| 82| 12|ne_ef2a3cdb-72fa-...|user_b8446a27-51d...|\n",
      "| 85| 26|ne_af272970-917c-...|user_bd5dfa72-0b1...|\n",
      "| 93| 29|ne_dc84d9a8-0269-...|user_bd5dfa72-0b1...|\n",
      "| 11| 74|ne_221903ce-6d3f-...|user_43d99f1a-a04...|\n",
      "| 69|  3|ne_ef2a3cdb-72fa-...|user_bd5dfa72-0b1...|\n",
      "+---+---+--------------------+--------------------+\n",
      "only showing top 5 rows\n",
      "\n"
     ]
    }
   ],
   "source": [
    "dfs[0].show(5)"
   ]
  },
  {
   "cell_type": "markdown",
   "metadata": {},
   "source": [
    "# zero padding with join"
   ]
  },
  {
   "cell_type": "code",
   "execution_count": 5,
   "metadata": {},
   "outputs": [],
   "source": [
    "dfa = dfs[0].join(dfs[1], ['ne','user'], how='outer') \\\n",
    "    .join(dfs[2], ['ne','user'], how='outer') \\\n",
    "    .join(dfs[3], ['ne','user'], how='outer') \\\n",
    "    .na.fill(0)"
   ]
  },
  {
   "cell_type": "code",
   "execution_count": 6,
   "metadata": {
    "scrolled": true
   },
   "outputs": [
    {
     "name": "stdout",
     "output_type": "stream",
     "text": [
      "+--------------------+--------------------+---+---+---+---+---+---+---+---+\n",
      "|                  ne|                user| f1| f2| f3| f4| f5| f6| f7| f8|\n",
      "+--------------------+--------------------+---+---+---+---+---+---+---+---+\n",
      "|ne_b9f47d9b-2d1d-...|user_9c4acb8b-1eb...| 70| 28|  0|  0| 86| 30|  0|  0|\n",
      "|ne_b9f47d9b-2d1d-...|user_9c4acb8b-1eb...| 70| 28|  0|  0| 78| 74|  0|  0|\n",
      "|ne_ab326a59-6721-...|user_86d840a9-ad0...| 81|  1| 18| 83| 58| 76| 39| 88|\n",
      "|ne_ab326a59-6721-...|user_86d840a9-ad0...| 81|  1| 18| 83| 58| 76| 15| 86|\n",
      "|ne_00816a9d-e371-...|user_bd5dfa72-0b1...|  0|  0| 27| 55| 92| 57| 91| 88|\n",
      "|ne_00816a9d-e371-...|user_bd5dfa72-0b1...|  0|  0| 27| 55| 92| 57| 76| 36|\n",
      "|ne_00816a9d-e371-...|user_bd5dfa72-0b1...|  0|  0| 27| 55| 92| 57| 58| 10|\n",
      "|ne_00816a9d-e371-...|user_bd5dfa72-0b1...|  0|  0| 27| 55| 52| 10| 91| 88|\n",
      "|ne_00816a9d-e371-...|user_bd5dfa72-0b1...|  0|  0| 27| 55| 52| 10| 76| 36|\n",
      "|ne_00816a9d-e371-...|user_bd5dfa72-0b1...|  0|  0| 27| 55| 52| 10| 58| 10|\n",
      "|ne_221903ce-6d3f-...|user_86d840a9-ad0...|  0|  0| 34| 65|  0|  0| 85| 95|\n",
      "|ne_221903ce-6d3f-...|user_86d840a9-ad0...|  0|  0| 34| 65|  0|  0| 46| 34|\n",
      "|ne_221903ce-6d3f-...|user_86d840a9-ad0...|  0|  0| 34| 65|  0|  0| 35| 17|\n",
      "|ne_8e0a9af2-a9fb-...|user_bd5dfa72-0b1...| 37| 11| 33| 46| 16| 46|  0|  0|\n",
      "|ne_8e0a9af2-a9fb-...|user_bd5dfa72-0b1...| 37| 11| 67| 15| 16| 46|  0|  0|\n",
      "|ne_dc84d9a8-0269-...|user_9c4acb8b-1eb...| 45| 22| 12| 87| 40| 95| 59| 66|\n",
      "|ne_dc84d9a8-0269-...|user_9c4acb8b-1eb...| 44| 66| 12| 87| 40| 95| 59| 66|\n",
      "|ne_00816a9d-e371-...|user_9c4acb8b-1eb...| 75| 81|  0|  0|  0|  0| 91| 71|\n",
      "|ne_00816a9d-e371-...|user_9c4acb8b-1eb...| 57| 42|  0|  0|  0|  0| 91| 71|\n",
      "|ne_8e0a9af2-a9fb-...|user_91a75984-190...|  0|  0| 35| 97| 80|  5| 90| 28|\n",
      "+--------------------+--------------------+---+---+---+---+---+---+---+---+\n",
      "only showing top 20 rows\n",
      "\n"
     ]
    }
   ],
   "source": [
    "dfa.show()"
   ]
  },
  {
   "cell_type": "markdown",
   "metadata": {},
   "source": [
    "measure aggregation"
   ]
  },
  {
   "cell_type": "code",
   "execution_count": 7,
   "metadata": {},
   "outputs": [
    {
     "name": "stdout",
     "output_type": "stream",
     "text": [
      "+--------------------+--------------------+-------+-------+-------+-------+-------+-------+-------+-------+\n",
      "|                  ne|                user|sum(f1)|sum(f2)|sum(f3)|sum(f4)|sum(f5)|sum(f6)|sum(f7)|sum(f8)|\n",
      "+--------------------+--------------------+-------+-------+-------+-------+-------+-------+-------+-------+\n",
      "|ne_b9f47d9b-2d1d-...|user_9c4acb8b-1eb...|    140|     56|      0|      0|    164|    104|      0|      0|\n",
      "|ne_ab326a59-6721-...|user_86d840a9-ad0...|    162|      2|     36|    166|    116|    152|     54|    174|\n",
      "|ne_00816a9d-e371-...|user_bd5dfa72-0b1...|      0|      0|    162|    330|    432|    201|    450|    268|\n",
      "|ne_221903ce-6d3f-...|user_86d840a9-ad0...|      0|      0|    102|    195|      0|      0|    166|    146|\n",
      "|ne_8e0a9af2-a9fb-...|user_bd5dfa72-0b1...|     74|     22|    100|     61|     32|     92|      0|      0|\n",
      "|ne_dc84d9a8-0269-...|user_9c4acb8b-1eb...|     89|     88|     24|    174|     80|    190|    118|    132|\n",
      "|ne_00816a9d-e371-...|user_9c4acb8b-1eb...|    132|    123|      0|      0|      0|      0|    182|    142|\n",
      "|ne_8e0a9af2-a9fb-...|user_91a75984-190...|      0|      0|     35|     97|     80|      5|     90|     28|\n",
      "|ne_b9f47d9b-2d1d-...|user_4f6ce0d2-e8e...|      0|      0|    140|    185|    154|     48|     98|    138|\n",
      "|ne_724eb62f-1930-...|user_2bb5d4d7-121...|     95|     95|     15|     43|     24|     11|     92|     52|\n",
      "|ne_221903ce-6d3f-...|user_43d99f1a-a04...|    675|    525|      0|      0|    460|    180|    204|   1152|\n",
      "|ne_221903ce-6d3f-...|user_e3bdcdb5-596...|      0|      0|      0|      0|      8|    160|     91|    135|\n",
      "|ne_ef2a3cdb-72fa-...|user_43d99f1a-a04...|    244|    344|     60|     64|     74|     90|    218|    308|\n",
      "|ne_724eb62f-1930-...|user_b8446a27-51d...|      0|      0|     94|     35|      0|      0|      0|      0|\n",
      "|ne_724eb62f-1930-...|user_9c4acb8b-1eb...|      0|      0|     84|     55|     83|      3|      0|      0|\n",
      "|ne_b9f47d9b-2d1d-...|user_2bb5d4d7-121...|    238|    184|    108|    368|    130|    244|      0|      0|\n",
      "|ne_00816a9d-e371-...|user_2bb5d4d7-121...|      0|      0|     44|     76|     70|     15|      0|      0|\n",
      "|ne_af272970-917c-...|user_035c2ec9-fe8...|      6|     51|     87|     12|      0|      0|     12|     39|\n",
      "|ne_8e0a9af2-a9fb-...|user_43d99f1a-a04...|    180|    188|     63|     50|    118|    160|      0|      0|\n",
      "|ne_8aad712c-d58c-...|user_43d99f1a-a04...|    196|     12|    276|    306|    246|    158|     52|    140|\n",
      "+--------------------+--------------------+-------+-------+-------+-------+-------+-------+-------+-------+\n",
      "only showing top 20 rows\n",
      "\n"
     ]
    }
   ],
   "source": [
    "dfa.groupBy(['ne','user']).sum().show()"
   ]
  },
  {
   "cell_type": "markdown",
   "metadata": {},
   "source": [
    "# Zero Padding with Map"
   ]
  },
  {
   "cell_type": "code",
   "execution_count": 8,
   "metadata": {},
   "outputs": [
    {
     "name": "stdout",
     "output_type": "stream",
     "text": [
      "['f1', 'f2', 'f5', 'f6', 'f7', 'f8']\n"
     ]
    }
   ],
   "source": [
    "def get_missing_cols(xdr_index, all_fields):\n",
    "    result = []\n",
    "    for index, fields in enumerate(all_fields):\n",
    "        if index != xdr_index:\n",
    "            for field in fields:\n",
    "                result.append(field)\n",
    "    return result\n",
    "\n",
    "print(get_missing_cols(1, fields))\n",
    "        "
   ]
  },
  {
   "cell_type": "markdown",
   "metadata": {},
   "source": [
    "fill missing col with 0 "
   ]
  },
  {
   "cell_type": "code",
   "execution_count": 10,
   "metadata": {},
   "outputs": [
    {
     "name": "stdout",
     "output_type": "stream",
     "text": [
      "+---+---+--------------------+--------------------+---+---+---+---+---+---+\n",
      "| f1| f2|                  ne|                user| f3| f4| f5| f6| f7| f8|\n",
      "+---+---+--------------------+--------------------+---+---+---+---+---+---+\n",
      "| 82| 12|ne_ef2a3cdb-72fa-...|user_b8446a27-51d...|  0|  0|  0|  0|  0|  0|\n",
      "| 85| 26|ne_af272970-917c-...|user_bd5dfa72-0b1...|  0|  0|  0|  0|  0|  0|\n",
      "| 93| 29|ne_dc84d9a8-0269-...|user_bd5dfa72-0b1...|  0|  0|  0|  0|  0|  0|\n",
      "| 11| 74|ne_221903ce-6d3f-...|user_43d99f1a-a04...|  0|  0|  0|  0|  0|  0|\n",
      "| 69|  3|ne_ef2a3cdb-72fa-...|user_bd5dfa72-0b1...|  0|  0|  0|  0|  0|  0|\n",
      "+---+---+--------------------+--------------------+---+---+---+---+---+---+\n",
      "only showing top 5 rows\n",
      "\n",
      "+---+---+--------------------+--------------------+---+---+---+---+---+---+\n",
      "| f3| f4|                  ne|                user| f1| f2| f5| f6| f7| f8|\n",
      "+---+---+--------------------+--------------------+---+---+---+---+---+---+\n",
      "| 90| 32|ne_af272970-917c-...|user_b8446a27-51d...|  0|  0|  0|  0|  0|  0|\n",
      "| 53| 41|ne_ef2a3cdb-72fa-...|user_b8446a27-51d...|  0|  0|  0|  0|  0|  0|\n",
      "| 88| 29|ne_ef2a3cdb-72fa-...|user_91a75984-190...|  0|  0|  0|  0|  0|  0|\n",
      "| 81| 81|ne_b9f47d9b-2d1d-...|user_43d99f1a-a04...|  0|  0|  0|  0|  0|  0|\n",
      "| 21| 80|ne_dc84d9a8-0269-...|user_4f6ce0d2-e8e...|  0|  0|  0|  0|  0|  0|\n",
      "+---+---+--------------------+--------------------+---+---+---+---+---+---+\n",
      "only showing top 5 rows\n",
      "\n",
      "+---+---+--------------------+--------------------+---+---+---+---+---+---+\n",
      "| f5| f6|                  ne|                user| f1| f2| f3| f4| f7| f8|\n",
      "+---+---+--------------------+--------------------+---+---+---+---+---+---+\n",
      "|  5| 44|ne_00816a9d-e371-...|user_e3bdcdb5-596...|  0|  0|  0|  0|  0|  0|\n",
      "|  5| 86|ne_b9f47d9b-2d1d-...|user_2bb5d4d7-121...|  0|  0|  0|  0|  0|  0|\n",
      "| 82| 27|ne_b9f47d9b-2d1d-...|user_91a75984-190...|  0|  0|  0|  0|  0|  0|\n",
      "| 33| 51|ne_724eb62f-1930-...|user_e3bdcdb5-596...|  0|  0|  0|  0|  0|  0|\n",
      "| 76| 44|ne_8e0a9af2-a9fb-...|user_2bb5d4d7-121...|  0|  0|  0|  0|  0|  0|\n",
      "+---+---+--------------------+--------------------+---+---+---+---+---+---+\n",
      "only showing top 5 rows\n",
      "\n",
      "+---+---+--------------------+--------------------+---+---+---+---+---+---+\n",
      "| f7| f8|                  ne|                user| f1| f2| f3| f4| f5| f6|\n",
      "+---+---+--------------------+--------------------+---+---+---+---+---+---+\n",
      "| 91| 88|ne_00816a9d-e371-...|user_bd5dfa72-0b1...|  0|  0|  0|  0|  0|  0|\n",
      "| 85| 95|ne_221903ce-6d3f-...|user_86d840a9-ad0...|  0|  0|  0|  0|  0|  0|\n",
      "| 22| 34|ne_ef2a3cdb-72fa-...|user_b8446a27-51d...|  0|  0|  0|  0|  0|  0|\n",
      "| 67|  6|ne_8aad712c-d58c-...|user_bd5dfa72-0b1...|  0|  0|  0|  0|  0|  0|\n",
      "| 87| 72|ne_af272970-917c-...|user_e3bdcdb5-596...|  0|  0|  0|  0|  0|  0|\n",
      "+---+---+--------------------+--------------------+---+---+---+---+---+---+\n",
      "only showing top 5 rows\n",
      "\n"
     ]
    }
   ],
   "source": [
    "from pyspark.sql.functions import lit\n",
    "\n",
    "new_dfs = []\n",
    "for index, df in enumerate(dfs):\n",
    "    missing_cols = get_missing_cols(index, fields)\n",
    "    new_df = df\n",
    "    for missing_col in missing_cols:\n",
    "        new_df = new_df.withColumn(missing_col, lit(0))\n",
    "    new_df.show(5)\n",
    "    new_dfs.append(new_df)"
   ]
  },
  {
   "cell_type": "code",
   "execution_count": 12,
   "metadata": {},
   "outputs": [
    {
     "name": "stdout",
     "output_type": "stream",
     "text": [
      "+---+---+--------------------+--------------------+---+---+---+---+---+---+\n",
      "| f1| f2|                  ne|                user| f3| f4| f5| f6| f7| f8|\n",
      "+---+---+--------------------+--------------------+---+---+---+---+---+---+\n",
      "| 82| 12|ne_ef2a3cdb-72fa-...|user_b8446a27-51d...|  0|  0|  0|  0|  0|  0|\n",
      "| 85| 26|ne_af272970-917c-...|user_bd5dfa72-0b1...|  0|  0|  0|  0|  0|  0|\n",
      "| 93| 29|ne_dc84d9a8-0269-...|user_bd5dfa72-0b1...|  0|  0|  0|  0|  0|  0|\n",
      "| 11| 74|ne_221903ce-6d3f-...|user_43d99f1a-a04...|  0|  0|  0|  0|  0|  0|\n",
      "| 69|  3|ne_ef2a3cdb-72fa-...|user_bd5dfa72-0b1...|  0|  0|  0|  0|  0|  0|\n",
      "+---+---+--------------------+--------------------+---+---+---+---+---+---+\n",
      "only showing top 5 rows\n",
      "\n"
     ]
    }
   ],
   "source": [
    "import functools \n",
    "\n",
    "def unionAll(dfs):\n",
    "    return functools.reduce(lambda df1,df2: df1.union(df2.select(df1.columns)), dfs) \n",
    "\n",
    "\n",
    "unioned_df = unionAll(new_dfs)\n",
    "unioned_df.show(5) \n",
    "unioned_df.repartition(1).write.format('com.databricks.spark.csv').save(\"unioned_df.csv\",header = 'true')"
   ]
  },
  {
   "cell_type": "markdown",
   "metadata": {},
   "source": [
    "measure aggregation"
   ]
  },
  {
   "cell_type": "code",
   "execution_count": 13,
   "metadata": {},
   "outputs": [
    {
     "name": "stdout",
     "output_type": "stream",
     "text": [
      "+--------------------+--------------------+-------+-------+-------+-------+-------+-------+-------+-------+\n",
      "|                  ne|                user|sum(f1)|sum(f2)|sum(f3)|sum(f4)|sum(f5)|sum(f6)|sum(f7)|sum(f8)|\n",
      "+--------------------+--------------------+-------+-------+-------+-------+-------+-------+-------+-------+\n",
      "|ne_b9f47d9b-2d1d-...|user_9c4acb8b-1eb...|     70|     28|      0|      0|    164|    104|      0|      0|\n",
      "|ne_ab326a59-6721-...|user_86d840a9-ad0...|     81|      1|     18|     83|     58|     76|     54|    174|\n",
      "|ne_8e0a9af2-a9fb-...|user_bd5dfa72-0b1...|     37|     11|    100|     61|     16|     46|      0|      0|\n",
      "|ne_00816a9d-e371-...|user_bd5dfa72-0b1...|      0|      0|     27|     55|    144|     67|    225|    134|\n",
      "|ne_221903ce-6d3f-...|user_86d840a9-ad0...|      0|      0|     34|     65|      0|      0|    166|    146|\n",
      "|ne_dc84d9a8-0269-...|user_9c4acb8b-1eb...|     89|     88|     12|     87|     40|     95|     59|     66|\n",
      "|ne_00816a9d-e371-...|user_9c4acb8b-1eb...|    132|    123|      0|      0|      0|      0|     91|     71|\n",
      "|ne_8e0a9af2-a9fb-...|user_91a75984-190...|      0|      0|     35|     97|     80|      5|     90|     28|\n",
      "|ne_b9f47d9b-2d1d-...|user_4f6ce0d2-e8e...|      0|      0|    140|    185|     77|     24|     49|     69|\n",
      "|ne_724eb62f-1930-...|user_2bb5d4d7-121...|     95|     95|     15|     43|     24|     11|     92|     52|\n",
      "|ne_221903ce-6d3f-...|user_43d99f1a-a04...|    225|    175|      0|      0|    115|     45|     17|     96|\n",
      "|ne_ef2a3cdb-72fa-...|user_43d99f1a-a04...|     61|     86|     15|     16|     37|     45|    109|    154|\n",
      "|ne_221903ce-6d3f-...|user_e3bdcdb5-596...|      0|      0|      0|      0|      4|     80|     91|    135|\n",
      "|ne_724eb62f-1930-...|user_b8446a27-51d...|      0|      0|     94|     35|      0|      0|      0|      0|\n",
      "|ne_724eb62f-1930-...|user_9c4acb8b-1eb...|      0|      0|     84|     55|     83|      3|      0|      0|\n",
      "|ne_b9f47d9b-2d1d-...|user_2bb5d4d7-121...|    119|     92|     27|     92|     65|    122|      0|      0|\n",
      "|ne_00816a9d-e371-...|user_2bb5d4d7-121...|      0|      0|     44|     76|     70|     15|      0|      0|\n",
      "|ne_af272970-917c-...|user_035c2ec9-fe8...|      6|     51|     87|     12|      0|      0|     12|     39|\n",
      "|ne_8e0a9af2-a9fb-...|user_43d99f1a-a04...|     90|     94|     63|     50|     59|     80|      0|      0|\n",
      "|ne_8aad712c-d58c-...|user_43d99f1a-a04...|     49|      3|    138|    153|    123|     79|     13|     35|\n",
      "+--------------------+--------------------+-------+-------+-------+-------+-------+-------+-------+-------+\n",
      "only showing top 20 rows\n",
      "\n"
     ]
    }
   ],
   "source": [
    "unioned_df.groupBy(['ne','user']).sum().show()"
   ]
  }
 ],
 "metadata": {
  "kernelspec": {
   "display_name": "Python 3",
   "language": "python",
   "name": "python3"
  },
  "language_info": {
   "codemirror_mode": {
    "name": "ipython",
    "version": 3
   },
   "file_extension": ".py",
   "mimetype": "text/x-python",
   "name": "python",
   "nbconvert_exporter": "python",
   "pygments_lexer": "ipython3",
   "version": "3.7.6"
  }
 },
 "nbformat": 4,
 "nbformat_minor": 4
}
